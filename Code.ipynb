{
 "cells": [
  {
   "cell_type": "code",
   "execution_count": 1,
   "metadata": {},
   "outputs": [],
   "source": [
    "import os\n",
    "import numpy as np\n",
    "import cv2\n",
    "import matplotlib.pyplot as plt\n",
    "import seaborn as sns\n",
    "\n",
    "from sklearn.metrics import accuracy_score, confusion_matrix, classification_report\n",
    "\n",
    "import tensorflow as tf\n",
    "from tensorflow.keras.models import Sequential\n",
    "from tensorflow.keras.layers import Conv2D, MaxPooling2D, Flatten, Dense, Dropout, BatchNormalization\n",
    "from tensorflow.keras.optimizers import Adam\n",
    "from tensorflow.keras.callbacks import EarlyStopping"
   ]
  },
  {
   "cell_type": "code",
   "execution_count": 2,
   "metadata": {},
   "outputs": [],
   "source": [
    "data_path = \"Face Mask Dataset\"\n",
    "\n",
    "def load_images_labels(data_path, folder):\n",
    "    images = []\n",
    "    labels = []\n",
    "    folder_path = os.path.join(data_path, folder)\n",
    "\n",
    "    for label in ['WithMask', 'WithoutMask']:\n",
    "        label_folder_path = os.path.join(folder_path, label)\n",
    "        for img_file in os.listdir(label_folder_path):\n",
    "            img_path = os.path.join(label_folder_path, img_file)\n",
    "            img = cv2.imread(img_path)\n",
    "            img = cv2.cvtColor(img, cv2.COLOR_BGR2RGB)\n",
    "            img = cv2.resize(img, (128, 128)) / 255.0\n",
    "            images.append(img)\n",
    "            labels.append(0 if label == 'WithMask' else 1)\n",
    "    \n",
    "    return np.array(images), np.array(labels)\n",
    "\n",
    "train_images, train_labels = load_images_labels(data_path, 'Train')\n",
    "val_images, val_labels = load_images_labels(data_path, 'Validation')\n",
    "test_images, test_labels = load_images_labels(data_path, 'Test')\n",
    "t_img, t_labels = load_images_labels(data_path, 'Multiple Test Images')"
   ]
  },
  {
   "cell_type": "code",
   "execution_count": 3,
   "metadata": {},
   "outputs": [
    {
     "name": "stdout",
     "output_type": "stream",
     "text": [
      "Model: \"sequential\"\n",
      "_________________________________________________________________\n",
      " Layer (type)                Output Shape              Param #   \n",
      "=================================================================\n",
      " conv2d (Conv2D)             (None, 126, 126, 32)      896       \n",
      "                                                                 \n",
      " batch_normalization (BatchN  (None, 126, 126, 32)     128       \n",
      " ormalization)                                                   \n",
      "                                                                 \n",
      " max_pooling2d (MaxPooling2D  (None, 63, 63, 32)       0         \n",
      " )                                                               \n",
      "                                                                 \n",
      " conv2d_1 (Conv2D)           (None, 61, 61, 32)        9248      \n",
      "                                                                 \n",
      " batch_normalization_1 (Batc  (None, 61, 61, 32)       128       \n",
      " hNormalization)                                                 \n",
      "                                                                 \n",
      " max_pooling2d_1 (MaxPooling  (None, 30, 30, 32)       0         \n",
      " 2D)                                                             \n",
      "                                                                 \n",
      " conv2d_2 (Conv2D)           (None, 28, 28, 64)        18496     \n",
      "                                                                 \n",
      " batch_normalization_2 (Batc  (None, 28, 28, 64)       256       \n",
      " hNormalization)                                                 \n",
      "                                                                 \n",
      " max_pooling2d_2 (MaxPooling  (None, 14, 14, 64)       0         \n",
      " 2D)                                                             \n",
      "                                                                 \n",
      " flatten (Flatten)           (None, 12544)             0         \n",
      "                                                                 \n",
      " dense (Dense)               (None, 128)               1605760   \n",
      "                                                                 \n",
      " dropout (Dropout)           (None, 128)               0         \n",
      "                                                                 \n",
      " dense_1 (Dense)             (None, 1)                 129       \n",
      "                                                                 \n",
      "=================================================================\n",
      "Total params: 1,635,041\n",
      "Trainable params: 1,634,785\n",
      "Non-trainable params: 256\n",
      "_________________________________________________________________\n"
     ]
    }
   ],
   "source": [
    "model = Sequential([\n",
    "    Conv2D(32, (3, 3), activation='relu', input_shape=(128, 128, 3)),\n",
    "    BatchNormalization(),\n",
    "    MaxPooling2D(2, 2),\n",
    "\n",
    "    Conv2D(32, (3, 3), activation='relu'),\n",
    "    BatchNormalization(),\n",
    "    MaxPooling2D(2, 2),\n",
    "\n",
    "    Conv2D(64, (3, 3), activation='relu'),\n",
    "    BatchNormalization(),\n",
    "    MaxPooling2D(2, 2),\n",
    "\n",
    "    Flatten(),\n",
    "    Dense(128, activation='relu'),\n",
    "    \n",
    "    Dropout(0.5),\n",
    "    Dense(1, activation='sigmoid')\n",
    "])\n",
    "\n",
    "# Compile the model\n",
    "model.compile(optimizer=Adam(learning_rate=0.001), loss='binary_crossentropy', metrics=['accuracy'])\n",
    "\n",
    "# Print the model summary\n",
    "model.summary()"
   ]
  },
  {
   "cell_type": "code",
   "execution_count": 6,
   "metadata": {},
   "outputs": [
    {
     "name": "stdout",
     "output_type": "stream",
     "text": [
      "Epoch 1/50\n",
      "313/313 [==============================] - 5s 14ms/step - loss: 0.1292 - accuracy: 0.9803 - val_loss: 0.2055 - val_accuracy: 0.9588\n",
      "Epoch 2/50\n",
      "313/313 [==============================] - 4s 12ms/step - loss: 0.0343 - accuracy: 0.9893 - val_loss: 0.0673 - val_accuracy: 0.9875\n",
      "Epoch 3/50\n",
      "313/313 [==============================] - 4s 12ms/step - loss: 0.0300 - accuracy: 0.9912 - val_loss: 0.0617 - val_accuracy: 0.9912\n",
      "Epoch 4/50\n",
      "313/313 [==============================] - 4s 12ms/step - loss: 0.0356 - accuracy: 0.9923 - val_loss: 0.1490 - val_accuracy: 0.9675\n",
      "Epoch 5/50\n",
      "313/313 [==============================] - 4s 12ms/step - loss: 0.0284 - accuracy: 0.9917 - val_loss: 0.0231 - val_accuracy: 0.9950\n",
      "Epoch 6/50\n",
      "313/313 [==============================] - 4s 12ms/step - loss: 0.0192 - accuracy: 0.9952 - val_loss: 0.0260 - val_accuracy: 0.9925\n",
      "Epoch 7/50\n",
      "313/313 [==============================] - 4s 12ms/step - loss: 0.0103 - accuracy: 0.9958 - val_loss: 0.0479 - val_accuracy: 0.9912\n",
      "Epoch 8/50\n",
      "313/313 [==============================] - 4s 12ms/step - loss: 0.0160 - accuracy: 0.9954 - val_loss: 0.8075 - val_accuracy: 0.9150\n",
      "Epoch 9/50\n",
      "313/313 [==============================] - 4s 12ms/step - loss: 0.0171 - accuracy: 0.9952 - val_loss: 0.1127 - val_accuracy: 0.9762\n",
      "Epoch 10/50\n",
      "313/313 [==============================] - 4s 12ms/step - loss: 0.0177 - accuracy: 0.9947 - val_loss: 0.0238 - val_accuracy: 0.9912\n"
     ]
    }
   ],
   "source": [
    "early_stopping = EarlyStopping(monitor='val_loss', patience=5, restore_best_weights=True)\n",
    "\n",
    "history = model.fit(train_images, train_labels,\n",
    "                    validation_data=(val_images, val_labels),\n",
    "                    batch_size=32,\n",
    "                    epochs=50,\n",
    "                    callbacks=[early_stopping])"
   ]
  },
  {
   "cell_type": "code",
   "execution_count": 7,
   "metadata": {},
   "outputs": [
    {
     "name": "stdout",
     "output_type": "stream",
     "text": [
      "31/31 [==============================] - 0s 10ms/step - loss: 0.0506 - accuracy: 0.9889\n",
      "Test accuracy: 98.89%\n",
      "31/31 [==============================] - 0s 4ms/step\n"
     ]
    },
    {
     "data": {
      "image/png": "[encoded data removed]",
      "text/plain": [
       "<Figure size 800x600 with 2 Axes>"
      ]
     },
     "metadata": {},
     "output_type": "display_data"
    },
    {
     "name": "stdout",
     "output_type": "stream",
     "text": [
      "              precision    recall  f1-score   support\n",
      "\n",
      "Without Mask       0.99      0.99      0.99       483\n",
      "   With Mask       0.99      0.99      0.99       509\n",
      "\n",
      "    accuracy                           0.99       992\n",
      "   macro avg       0.99      0.99      0.99       992\n",
      "weighted avg       0.99      0.99      0.99       992\n",
      "\n"
     ]
    }
   ],
   "source": [
    "test_loss, test_accuracy = model.evaluate(test_images, test_labels)\n",
    "print(f'Test accuracy: {test_accuracy * 100:.2f}%')\n",
    "\n",
    "# Generate predictions\n",
    "pred_probs = model.predict(test_images)  \n",
    "pred_labels = (pred_probs > 0.5).astype(int).flatten()  # Convert probabilities to binary labels\n",
    "\n",
    "# Display confusion matrix and classification report\n",
    "cm = confusion_matrix(test_labels, pred_labels)\n",
    "\n",
    "# Plotting the confusion matrix\n",
    "plt.figure(figsize=(8, 6))\n",
    "sns.heatmap(cm, annot=True, fmt='d', cmap='Reds', xticklabels=['Without Mask', 'With Mask'], yticklabels=['Without Mask', 'With Mask'])\n",
    "plt.xlabel('Predicted Labels')\n",
    "plt.ylabel('True Labels')\n",
    "plt.title('Confusion Matrix')\n",
    "plt.show()\n",
    "\n",
    "\n",
    "report = classification_report(test_labels, pred_labels, target_names=['Without Mask', 'With Mask'])\n",
    "print(report)\n"
   ]
  },
  {
   "cell_type": "code",
   "execution_count": 8,
   "metadata": {},
   "outputs": [],
   "source": [
    "# Load pre-trained face detection model (Haar Cascade)\n",
    "face_cascade = cv2.CascadeClassifier(cv2.data.haarcascades + 'haarcascade_frontalface_default.xml')\n",
    "\n",
    "# Function to detect and crop faces\n",
    "def detect_and_crop_faces(img):\n",
    "    gray_img = cv2.cvtColor(img, cv2.COLOR_RGB2GRAY)  # Convert image to grayscale for face detection\n",
    "    faces = face_cascade.detectMultiScale(gray_img, scaleFactor=1.1, minNeighbors=5, minSize=(50, 50))\n",
    "\n",
    "    face_crops = []\n",
    "    for (x, y, w, h) in faces:\n",
    "        face_crop = img[y:y+h, x:x+w]  # Crop the face from the original image\n",
    "        face_crops.append(face_crop)\n",
    "    \n",
    "    return face_crops"
   ]
  },
  {
   "cell_type": "code",
   "execution_count": 16,
   "metadata": {},
   "outputs": [
    {
     "name": "stdout",
     "output_type": "stream",
     "text": [
      "1/1 [==============================] - 0s 228ms/step\n"
     ]
    },
    {
     "data": {
      "image/png": "[encoded data removed]",
      "text/plain": [
       "<Figure size 640x480 with 1 Axes>"
      ]
     },
     "metadata": {},
     "output_type": "display_data"
    }
   ],
   "source": [
    "mask_img_path = r'Face Mask Dataset\\Multiple Test Images\\download (1).jpg'\n",
    "nomask_img_path = r'Face Mask Dataset\\Multiple Test Images\\WithoutMask\\images (4).jpg'\n",
    "sample_img = cv2.imread(nomask_img_path)\n",
    "sample_img = cv2.cvtColor(sample_img, cv2.COLOR_BGR2RGB)\n",
    "\n",
    "# Detect faces and crop them\n",
    "faces = detect_and_crop_faces(sample_img)\n",
    "\n",
    "if len(faces) == 0:\n",
    "    print(\"No faces detected.\")\n",
    "else:\n",
    "    for i, face in enumerate(faces):\n",
    "        # Resize and normalize the cropped face\n",
    "        face_resized = cv2.resize(face, (128, 128)) / 255.0\n",
    "        face_expanded = np.expand_dims(face_resized, axis=0)\n",
    "\n",
    "        # Make a prediction on the cropped face\n",
    "        pred = model.predict(face_expanded)\n",
    "        \n",
    "        # Label and confidence calculation\n",
    "        label = (pred > 0.5).astype(int).flatten()[0]\n",
    "        confidence = pred[0][0] * 100 if label == 1 else (1 - pred[0][0]) * 100\n",
    "        label_text = 'With Mask' if label == 0 else 'Without Mask'\n",
    "        \n",
    "        # Plot each detected face with its prediction\n",
    "        plt.subplot(1, len(faces), i+1)\n",
    "        plt.imshow(face)\n",
    "        plt.title(f\"{label_text} ({confidence:.2f}%)\")\n",
    "        plt.axis('off')\n",
    "\n",
    "    plt.show()"
   ]
  },
  {
   "cell_type": "code",
   "execution_count": 15,
   "metadata": {},
   "outputs": [
    {
     "name": "stdout",
     "output_type": "stream",
     "text": [
      "Model: \"sequential\"\n",
      "_________________________________________________________________\n",
      " Layer (type)                Output Shape              Param #   \n",
      "=================================================================\n",
      " conv2d (Conv2D)             (None, 126, 126, 32)      896       \n",
      "                                                                 \n",
      " batch_normalization (BatchN  (None, 126, 126, 32)     128       \n",
      " ormalization)                                                   \n",
      "                                                                 \n",
      " max_pooling2d (MaxPooling2D  (None, 63, 63, 32)       0         \n",
      " )                                                               \n",
      "                                                                 \n",
      " conv2d_1 (Conv2D)           (None, 61, 61, 32)        9248      \n",
      "                                                                 \n",
      " batch_normalization_1 (Batc  (None, 61, 61, 32)       128       \n",
      " hNormalization)                                                 \n",
      "                                                                 \n",
      " max_pooling2d_1 (MaxPooling  (None, 30, 30, 32)       0         \n",
      " 2D)                                                             \n",
      "                                                                 \n",
      " conv2d_2 (Conv2D)           (None, 28, 28, 64)        18496     \n",
      "                                                                 \n",
      " batch_normalization_2 (Batc  (None, 28, 28, 64)       256       \n",
      " hNormalization)                                                 \n",
      "                                                                 \n",
      " max_pooling2d_2 (MaxPooling  (None, 14, 14, 64)       0         \n",
      " 2D)                                                             \n",
      "                                                                 \n",
      " flatten (Flatten)           (None, 12544)             0         \n",
      "                                                                 \n",
      " dense (Dense)               (None, 128)               1605760   \n",
      "                                                                 \n",
      " dropout (Dropout)           (None, 128)               0         \n",
      "                                                                 \n",
      " dense_1 (Dense)             (None, 1)                 129       \n",
      "                                                                 \n",
      "=================================================================\n",
      "Total params: 1,635,041\n",
      "Trainable params: 1,634,785\n",
      "Non-trainable params: 256\n",
      "_________________________________________________________________\n",
      "31/31 - 0s - loss: 0.0506 - accuracy: 0.9889 - 462ms/epoch - 15ms/step\n",
      "Restored model, accuracy: 98.89%\n"
     ]
    }
   ],
   "source": [
    "model.save('face_mask_detector.keras')\n",
    "new_model = tf.keras.models.load_model(r'C:\\Users\\Bala Vignesh\\ML Coding\\Face Mask Detection\\face_mask_detector.keras')\n",
    "new_model.summary()\n",
    "\n",
    "loss, acc = new_model.evaluate(test_images, test_labels, verbose=2)\n",
    "print('Restored model, accuracy: {:5.2f}%'.format(100 * acc))"
   ]
  },
  {
   "cell_type": "code",
   "execution_count": null,
   "metadata": {},
   "outputs": [],
   "source": []
  }
 ],
 "metadata": {
  "kernelspec": {
   "display_name": "tf",
   "language": "python",
   "name": "python3"
  },
  "language_info": {
   "codemirror_mode": {
    "name": "ipython",
    "version": 3
   },
   "file_extension": ".py",
   "mimetype": "text/x-python",
   "name": "python",
   "nbconvert_exporter": "python",
   "pygments_lexer": "ipython3",
   "version": "3.9.20"
  }
 },
 "nbformat": 4,
 "nbformat_minor": 2
}
